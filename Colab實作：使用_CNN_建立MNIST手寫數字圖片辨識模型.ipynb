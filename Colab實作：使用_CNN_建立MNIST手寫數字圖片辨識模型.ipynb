{
  "nbformat": 4,
  "nbformat_minor": 0,
  "metadata": {
    "colab": {
      "provenance": [],
      "collapsed_sections": [
        "NGo3GbkqceSP",
        "6H57ojlacmfF"
      ],
      "toc_visible": true,
      "include_colab_link": true
    },
    "kernelspec": {
      "name": "python3",
      "display_name": "Python 3"
    },
    "accelerator": "GPU",
    "widgets": {
      "application/vnd.jupyter.widget-state+json": {
        "2771e2ebc1284caa84ff17a8e6ef0400": {
          "model_module": "@jupyter-widgets/controls",
          "model_name": "VBoxModel",
          "model_module_version": "1.5.0",
          "state": {
            "_dom_classes": [
              "widget-interact"
            ],
            "_model_module": "@jupyter-widgets/controls",
            "_model_module_version": "1.5.0",
            "_model_name": "VBoxModel",
            "_view_count": null,
            "_view_module": "@jupyter-widgets/controls",
            "_view_module_version": "1.5.0",
            "_view_name": "VBoxView",
            "box_style": "",
            "children": [
              "IPY_MODEL_a1c19f9aa3424b6a8201f0509a257415",
              "IPY_MODEL_0609ec11908f4b1f86f3c253828e6e85"
            ],
            "layout": "IPY_MODEL_18081616d5384664892e6d1d852f1f51"
          }
        },
        "a1c19f9aa3424b6a8201f0509a257415": {
          "model_module": "@jupyter-widgets/controls",
          "model_name": "BoundedIntTextModel",
          "model_module_version": "1.5.0",
          "state": {
            "_dom_classes": [],
            "_model_module": "@jupyter-widgets/controls",
            "_model_module_version": "1.5.0",
            "_model_name": "BoundedIntTextModel",
            "_view_count": null,
            "_view_module": "@jupyter-widgets/controls",
            "_view_module_version": "1.5.0",
            "_view_name": "IntTextView",
            "continuous_update": false,
            "description": "idx",
            "description_tooltip": null,
            "disabled": false,
            "layout": "IPY_MODEL_b1000b888bed42c2857ccc7b533c6833",
            "max": 9999,
            "min": 0,
            "step": 1,
            "style": "IPY_MODEL_a19a34866c9140c9b4c47e456ebb6f34",
            "value": 5566
          }
        },
        "0609ec11908f4b1f86f3c253828e6e85": {
          "model_module": "@jupyter-widgets/output",
          "model_name": "OutputModel",
          "model_module_version": "1.0.0",
          "state": {
            "_dom_classes": [],
            "_model_module": "@jupyter-widgets/output",
            "_model_module_version": "1.0.0",
            "_model_name": "OutputModel",
            "_view_count": null,
            "_view_module": "@jupyter-widgets/output",
            "_view_module_version": "1.0.0",
            "_view_name": "OutputView",
            "layout": "IPY_MODEL_c8b9b31c547c4c25b510cccadde3321f",
            "msg_id": "",
            "outputs": [
              {
                "output_type": "stream",
                "name": "stdout",
                "text": [
                  "\r\u001b[1m1/1\u001b[0m \u001b[32m━━━━━━━━━━━━━━━━━━━━\u001b[0m\u001b[37m\u001b[0m \u001b[1m0s\u001b[0m 439ms/step"
                ]
              },
              {
                "output_type": "stream",
                "name": "stdout",
                "text": [
                  "\b\b\b\b\b\b\b\b\b\b\b\b\b\b\b\b\b\b\b\b\b\b\b\b\b\b\b\b\b\b\b\b\b\b\b\b\b\b\r\u001b[1m1/1\u001b[0m \u001b[32m━━━━━━━━━━━━━━━━━━━━\u001b[0m\u001b[37m\u001b[0m \u001b[1m0s\u001b[0m 456ms/step\n"
                ]
              },
              {
                "output_type": "stream",
                "name": "stdout",
                "text": [
                  "預測正確!"
                ]
              },
              {
                "output_type": "stream",
                "name": "stdout",
                "text": [
                  "\n"
                ]
              },
              {
                "output_type": "display_data",
                "data": {
                  "text/plain": "<Figure size 1000x500 with 2 Axes>",
                  "image/png": "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\n"
                },
                "metadata": {}
              }
            ]
          }
        },
        "18081616d5384664892e6d1d852f1f51": {
          "model_module": "@jupyter-widgets/base",
          "model_name": "LayoutModel",
          "model_module_version": "1.2.0",
          "state": {
            "_model_module": "@jupyter-widgets/base",
            "_model_module_version": "1.2.0",
            "_model_name": "LayoutModel",
            "_view_count": null,
            "_view_module": "@jupyter-widgets/base",
            "_view_module_version": "1.2.0",
            "_view_name": "LayoutView",
            "align_content": null,
            "align_items": null,
            "align_self": null,
            "border": null,
            "bottom": null,
            "display": null,
            "flex": null,
            "flex_flow": null,
            "grid_area": null,
            "grid_auto_columns": null,
            "grid_auto_flow": null,
            "grid_auto_rows": null,
            "grid_column": null,
            "grid_gap": null,
            "grid_row": null,
            "grid_template_areas": null,
            "grid_template_columns": null,
            "grid_template_rows": null,
            "height": null,
            "justify_content": null,
            "justify_items": null,
            "left": null,
            "margin": null,
            "max_height": null,
            "max_width": null,
            "min_height": null,
            "min_width": null,
            "object_fit": null,
            "object_position": null,
            "order": null,
            "overflow": null,
            "overflow_x": null,
            "overflow_y": null,
            "padding": null,
            "right": null,
            "top": null,
            "visibility": null,
            "width": null
          }
        },
        "b1000b888bed42c2857ccc7b533c6833": {
          "model_module": "@jupyter-widgets/base",
          "model_name": "LayoutModel",
          "model_module_version": "1.2.0",
          "state": {
            "_model_module": "@jupyter-widgets/base",
            "_model_module_version": "1.2.0",
            "_model_name": "LayoutModel",
            "_view_count": null,
            "_view_module": "@jupyter-widgets/base",
            "_view_module_version": "1.2.0",
            "_view_name": "LayoutView",
            "align_content": null,
            "align_items": null,
            "align_self": null,
            "border": null,
            "bottom": null,
            "display": null,
            "flex": null,
            "flex_flow": null,
            "grid_area": null,
            "grid_auto_columns": null,
            "grid_auto_flow": null,
            "grid_auto_rows": null,
            "grid_column": null,
            "grid_gap": null,
            "grid_row": null,
            "grid_template_areas": null,
            "grid_template_columns": null,
            "grid_template_rows": null,
            "height": null,
            "justify_content": null,
            "justify_items": null,
            "left": null,
            "margin": null,
            "max_height": null,
            "max_width": null,
            "min_height": null,
            "min_width": null,
            "object_fit": null,
            "object_position": null,
            "order": null,
            "overflow": null,
            "overflow_x": null,
            "overflow_y": null,
            "padding": null,
            "right": null,
            "top": null,
            "visibility": null,
            "width": null
          }
        },
        "a19a34866c9140c9b4c47e456ebb6f34": {
          "model_module": "@jupyter-widgets/controls",
          "model_name": "DescriptionStyleModel",
          "model_module_version": "1.5.0",
          "state": {
            "_model_module": "@jupyter-widgets/controls",
            "_model_module_version": "1.5.0",
            "_model_name": "DescriptionStyleModel",
            "_view_count": null,
            "_view_module": "@jupyter-widgets/base",
            "_view_module_version": "1.2.0",
            "_view_name": "StyleView",
            "description_width": ""
          }
        },
        "c8b9b31c547c4c25b510cccadde3321f": {
          "model_module": "@jupyter-widgets/base",
          "model_name": "LayoutModel",
          "model_module_version": "1.2.0",
          "state": {
            "_model_module": "@jupyter-widgets/base",
            "_model_module_version": "1.2.0",
            "_model_name": "LayoutModel",
            "_view_count": null,
            "_view_module": "@jupyter-widgets/base",
            "_view_module_version": "1.2.0",
            "_view_name": "LayoutView",
            "align_content": null,
            "align_items": null,
            "align_self": null,
            "border": null,
            "bottom": null,
            "display": null,
            "flex": null,
            "flex_flow": null,
            "grid_area": null,
            "grid_auto_columns": null,
            "grid_auto_flow": null,
            "grid_auto_rows": null,
            "grid_column": null,
            "grid_gap": null,
            "grid_row": null,
            "grid_template_areas": null,
            "grid_template_columns": null,
            "grid_template_rows": null,
            "height": null,
            "justify_content": null,
            "justify_items": null,
            "left": null,
            "margin": null,
            "max_height": null,
            "max_width": null,
            "min_height": null,
            "min_width": null,
            "object_fit": null,
            "object_position": null,
            "order": null,
            "overflow": null,
            "overflow_x": null,
            "overflow_y": null,
            "padding": null,
            "right": null,
            "top": null,
            "visibility": null,
            "width": null
          }
        }
      }
    }
  },
  "cells": [
    {
      "cell_type": "markdown",
      "metadata": {
        "id": "view-in-github",
        "colab_type": "text"
      },
      "source": [
        "<a href=\"https://colab.research.google.com/github/LiShun522/MNIST_homework/blob/main/Colab%E5%AF%A6%E4%BD%9C%EF%BC%9A%E4%BD%BF%E7%94%A8_CNN_%E5%BB%BA%E7%AB%8BMNIST%E6%89%8B%E5%AF%AB%E6%95%B8%E5%AD%97%E5%9C%96%E7%89%87%E8%BE%A8%E8%AD%98%E6%A8%A1%E5%9E%8B.ipynb\" target=\"_parent\"><img src=\"https://colab.research.google.com/assets/colab-badge.svg\" alt=\"Open In Colab\"/></a>"
      ]
    },
    {
      "cell_type": "markdown",
      "metadata": {
        "id": "XUZA3OvtRzK-"
      },
      "source": [
        "\n",
        "<p align=\"center\">\n",
        "  <img src=\"https://storage.googleapis.com/kaggle-competitions/kaggle/3004/logos/header.png\"\n",
        "  />\n",
        "  <center>MNIST 手寫數字資料庫</center>\n",
        "  <center>圖片來源: https://www.kaggle.com/</center>\n",
        "</p>"
      ]
    },
    {
      "cell_type": "markdown",
      "metadata": {
        "id": "zJMS8p3wfPXO"
      },
      "source": [
        "## 1: 切換 TensorFlow 版本至 2.x"
      ]
    },
    {
      "cell_type": "code",
      "metadata": {
        "id": "PXNUanZvcwwZ",
        "colab": {
          "base_uri": "https://localhost:8080/"
        },
        "outputId": "002d7ada-ab76-4fa1-c242-7def645c19e7"
      },
      "source": [
        "%tensorflow_version 2.x"
      ],
      "execution_count": 1,
      "outputs": [
        {
          "output_type": "stream",
          "name": "stdout",
          "text": [
            "Colab only includes TensorFlow 2.x; %tensorflow_version has no effect.\n"
          ]
        }
      ]
    },
    {
      "cell_type": "markdown",
      "metadata": {
        "id": "lRHFdNYAfWKJ"
      },
      "source": [
        "## 2: 載入套件及資料集"
      ]
    },
    {
      "cell_type": "code",
      "metadata": {
        "id": "tS5xFeQwe9Xu"
      },
      "source": [
        "%matplotlib inline\n",
        "# Import some useful packages\n",
        "import matplotlib.pyplot as plt\n",
        "import numpy as np\n",
        "from ipywidgets import interact, IntSlider, BoundedIntText\n",
        "\n",
        "# Layers for FNN\n",
        "from tensorflow.keras.models import Sequential\n",
        "from tensorflow.keras.layers import Dense\n",
        "from tensorflow.keras.layers import Flatten\n",
        "\n",
        "# Layers for CNN\n",
        "from tensorflow.keras.layers import Conv2D, MaxPool2D\n",
        "\n",
        "# For data preprocessing\n",
        "from tensorflow.keras import datasets\n",
        "from tensorflow.keras.utils import to_categorical"
      ],
      "execution_count": 2,
      "outputs": []
    },
    {
      "cell_type": "markdown",
      "metadata": {
        "id": "e8zYubaPfy-S"
      },
      "source": [
        "## 3: 資料前處理 (Data Preprocessing)"
      ]
    },
    {
      "cell_type": "markdown",
      "metadata": {
        "id": "AOAGjiPogF0w"
      },
      "source": [
        "讀取 MNIST 手寫數字資料集"
      ]
    },
    {
      "cell_type": "code",
      "metadata": {
        "id": "ITug7sp2TAr5",
        "colab": {
          "base_uri": "https://localhost:8080/"
        },
        "outputId": "ca157e05-3066-451a-9684-0579d1bad823"
      },
      "source": [
        "(X_train, y_train), (X_test, y_test) = datasets.mnist.load_data()"
      ],
      "execution_count": 3,
      "outputs": [
        {
          "output_type": "stream",
          "name": "stdout",
          "text": [
            "Downloading data from https://storage.googleapis.com/tensorflow/tf-keras-datasets/mnist.npz\n",
            "\u001b[1m11490434/11490434\u001b[0m \u001b[32m━━━━━━━━━━━━━━━━━━━━\u001b[0m\u001b[37m\u001b[0m \u001b[1m2s\u001b[0m 0us/step\n"
          ]
        }
      ]
    },
    {
      "cell_type": "markdown",
      "metadata": {
        "id": "8L-FXLkM5Jpc"
      },
      "source": [
        "由於 CNN 的輸入必須帶有通道數/圖層這個維度，所以我們必須將圖片大小由 $28\\times 28$ 轉換成 $28\\times 28\\times 1$。"
      ]
    },
    {
      "cell_type": "code",
      "metadata": {
        "id": "IsA_Z40jayyH"
      },
      "source": [
        "# Reshape size of each image from (28, 28) to (28, 28, 1)\n",
        "X_train = X_train.reshape(-1, 28, 28, 1)\n",
        "X_test = X_test.reshape(-1, 28, 28, 1)"
      ],
      "execution_count": 4,
      "outputs": []
    },
    {
      "cell_type": "code",
      "metadata": {
        "id": "4srVd7RaTFO1"
      },
      "source": [
        "# Normalize data range\n",
        "X_train = X_train / X_train.max()\n",
        "X_test = X_test / X_test.max()"
      ],
      "execution_count": 5,
      "outputs": []
    },
    {
      "cell_type": "code",
      "metadata": {
        "id": "JQ08yH4ZTRyu"
      },
      "source": [
        "# One hot encoding image labels\n",
        "y_train = to_categorical(y_train, 10)\n",
        "y_test = to_categorical(y_test, 10)"
      ],
      "execution_count": 6,
      "outputs": []
    },
    {
      "cell_type": "markdown",
      "metadata": {
        "id": "swp6zTOST8gD"
      },
      "source": [
        "## 4: 建立你的第一個卷積神經網路 (Convolutional Neural Network)\n",
        "\n",
        "在這個部分，我們將逐步帶領大家建立經典的 CNN 模型 LeNet-5 的變形。\n",
        "\n",
        "LeNet-5 分成兩個部分，分別為卷積層與全連接層，兩部份之間是透過扁平層 (Flatten) ，將卷積層最後輸出的 2 維向量壓扁成 1 維向量。"
      ]
    },
    {
      "cell_type": "code",
      "metadata": {
        "id": "jGEAVln9TRwa"
      },
      "source": [
        "model = Sequential()"
      ],
      "execution_count": 7,
      "outputs": []
    },
    {
      "cell_type": "markdown",
      "metadata": {
        "id": "NGo3GbkqceSP"
      },
      "source": [
        "### [卷積層]"
      ]
    },
    {
      "cell_type": "markdown",
      "metadata": {
        "id": "qqD3YgdEZCVx"
      },
      "source": [
        "#### 第一層卷積層\n",
        "- Filter 個數: 6\n",
        "- Kernal 尺寸: (3, 3)\n",
        "- 激活函數: relu\n",
        "- 神經網路的輸入格式: (28, 28, 1)"
      ]
    },
    {
      "cell_type": "code",
      "metadata": {
        "id": "MQJxMVioTRtR",
        "colab": {
          "base_uri": "https://localhost:8080/"
        },
        "outputId": "1d8f6bbd-d910-4d02-bff0-59cf4fb1b7c8"
      },
      "source": [
        "model.add(Conv2D(6, (3, 3), input_shape=(28, 28, 1), activation='relu')) # no padding"
      ],
      "execution_count": 8,
      "outputs": [
        {
          "output_type": "stream",
          "name": "stderr",
          "text": [
            "/usr/local/lib/python3.11/dist-packages/keras/src/layers/convolutional/base_conv.py:107: UserWarning: Do not pass an `input_shape`/`input_dim` argument to a layer. When using Sequential models, prefer using an `Input(shape)` object as the first layer in the model instead.\n",
            "  super().__init__(activity_regularizer=activity_regularizer, **kwargs)\n"
          ]
        }
      ]
    },
    {
      "cell_type": "markdown",
      "metadata": {
        "id": "V92pe_luZogE"
      },
      "source": [
        "#### 最大池化層\n",
        "* 池化視窗: 2x2 (預設)"
      ]
    },
    {
      "cell_type": "code",
      "metadata": {
        "id": "oK0z_MmJZoxy"
      },
      "source": [
        "model.add(MaxPool2D()) # pool_size=(2, 2)"
      ],
      "execution_count": 9,
      "outputs": []
    },
    {
      "cell_type": "markdown",
      "metadata": {
        "id": "IeG7kK8Y55xh"
      },
      "source": [
        "在接到第二層卷積層以及池化層前，我們偷偷看一下模型目前的長相。"
      ]
    },
    {
      "cell_type": "code",
      "metadata": {
        "id": "S_CGTjI957vl",
        "colab": {
          "base_uri": "https://localhost:8080/",
          "height": 200
        },
        "outputId": "f8008411-90f0-4c84-eed8-60c090e18310"
      },
      "source": [
        "model.summary()"
      ],
      "execution_count": 10,
      "outputs": [
        {
          "output_type": "display_data",
          "data": {
            "text/plain": [
              "\u001b[1mModel: \"sequential\"\u001b[0m\n"
            ],
            "text/html": [
              "<pre style=\"white-space:pre;overflow-x:auto;line-height:normal;font-family:Menlo,'DejaVu Sans Mono',consolas,'Courier New',monospace\"><span style=\"font-weight: bold\">Model: \"sequential\"</span>\n",
              "</pre>\n"
            ]
          },
          "metadata": {}
        },
        {
          "output_type": "display_data",
          "data": {
            "text/plain": [
              "┏━━━━━━━━━━━━━━━━━━━━━━━━━━━━━━━━━┳━━━━━━━━━━━━━━━━━━━━━━━━┳━━━━━━━━━━━━━━━┓\n",
              "┃\u001b[1m \u001b[0m\u001b[1mLayer (type)                   \u001b[0m\u001b[1m \u001b[0m┃\u001b[1m \u001b[0m\u001b[1mOutput Shape          \u001b[0m\u001b[1m \u001b[0m┃\u001b[1m \u001b[0m\u001b[1m      Param #\u001b[0m\u001b[1m \u001b[0m┃\n",
              "┡━━━━━━━━━━━━━━━━━━━━━━━━━━━━━━━━━╇━━━━━━━━━━━━━━━━━━━━━━━━╇━━━━━━━━━━━━━━━┩\n",
              "│ conv2d (\u001b[38;5;33mConv2D\u001b[0m)                 │ (\u001b[38;5;45mNone\u001b[0m, \u001b[38;5;34m26\u001b[0m, \u001b[38;5;34m26\u001b[0m, \u001b[38;5;34m6\u001b[0m)      │            \u001b[38;5;34m60\u001b[0m │\n",
              "├─────────────────────────────────┼────────────────────────┼───────────────┤\n",
              "│ max_pooling2d (\u001b[38;5;33mMaxPooling2D\u001b[0m)    │ (\u001b[38;5;45mNone\u001b[0m, \u001b[38;5;34m13\u001b[0m, \u001b[38;5;34m13\u001b[0m, \u001b[38;5;34m6\u001b[0m)      │             \u001b[38;5;34m0\u001b[0m │\n",
              "└─────────────────────────────────┴────────────────────────┴───────────────┘\n"
            ],
            "text/html": [
              "<pre style=\"white-space:pre;overflow-x:auto;line-height:normal;font-family:Menlo,'DejaVu Sans Mono',consolas,'Courier New',monospace\">┏━━━━━━━━━━━━━━━━━━━━━━━━━━━━━━━━━┳━━━━━━━━━━━━━━━━━━━━━━━━┳━━━━━━━━━━━━━━━┓\n",
              "┃<span style=\"font-weight: bold\"> Layer (type)                    </span>┃<span style=\"font-weight: bold\"> Output Shape           </span>┃<span style=\"font-weight: bold\">       Param # </span>┃\n",
              "┡━━━━━━━━━━━━━━━━━━━━━━━━━━━━━━━━━╇━━━━━━━━━━━━━━━━━━━━━━━━╇━━━━━━━━━━━━━━━┩\n",
              "│ conv2d (<span style=\"color: #0087ff; text-decoration-color: #0087ff\">Conv2D</span>)                 │ (<span style=\"color: #00d7ff; text-decoration-color: #00d7ff\">None</span>, <span style=\"color: #00af00; text-decoration-color: #00af00\">26</span>, <span style=\"color: #00af00; text-decoration-color: #00af00\">26</span>, <span style=\"color: #00af00; text-decoration-color: #00af00\">6</span>)      │            <span style=\"color: #00af00; text-decoration-color: #00af00\">60</span> │\n",
              "├─────────────────────────────────┼────────────────────────┼───────────────┤\n",
              "│ max_pooling2d (<span style=\"color: #0087ff; text-decoration-color: #0087ff\">MaxPooling2D</span>)    │ (<span style=\"color: #00d7ff; text-decoration-color: #00d7ff\">None</span>, <span style=\"color: #00af00; text-decoration-color: #00af00\">13</span>, <span style=\"color: #00af00; text-decoration-color: #00af00\">13</span>, <span style=\"color: #00af00; text-decoration-color: #00af00\">6</span>)      │             <span style=\"color: #00af00; text-decoration-color: #00af00\">0</span> │\n",
              "└─────────────────────────────────┴────────────────────────┴───────────────┘\n",
              "</pre>\n"
            ]
          },
          "metadata": {}
        },
        {
          "output_type": "display_data",
          "data": {
            "text/plain": [
              "\u001b[1m Total params: \u001b[0m\u001b[38;5;34m60\u001b[0m (240.00 B)\n"
            ],
            "text/html": [
              "<pre style=\"white-space:pre;overflow-x:auto;line-height:normal;font-family:Menlo,'DejaVu Sans Mono',consolas,'Courier New',monospace\"><span style=\"font-weight: bold\"> Total params: </span><span style=\"color: #00af00; text-decoration-color: #00af00\">60</span> (240.00 B)\n",
              "</pre>\n"
            ]
          },
          "metadata": {}
        },
        {
          "output_type": "display_data",
          "data": {
            "text/plain": [
              "\u001b[1m Trainable params: \u001b[0m\u001b[38;5;34m60\u001b[0m (240.00 B)\n"
            ],
            "text/html": [
              "<pre style=\"white-space:pre;overflow-x:auto;line-height:normal;font-family:Menlo,'DejaVu Sans Mono',consolas,'Courier New',monospace\"><span style=\"font-weight: bold\"> Trainable params: </span><span style=\"color: #00af00; text-decoration-color: #00af00\">60</span> (240.00 B)\n",
              "</pre>\n"
            ]
          },
          "metadata": {}
        },
        {
          "output_type": "display_data",
          "data": {
            "text/plain": [
              "\u001b[1m Non-trainable params: \u001b[0m\u001b[38;5;34m0\u001b[0m (0.00 B)\n"
            ],
            "text/html": [
              "<pre style=\"white-space:pre;overflow-x:auto;line-height:normal;font-family:Menlo,'DejaVu Sans Mono',consolas,'Courier New',monospace\"><span style=\"font-weight: bold\"> Non-trainable params: </span><span style=\"color: #00af00; text-decoration-color: #00af00\">0</span> (0.00 B)\n",
              "</pre>\n"
            ]
          },
          "metadata": {}
        }
      ]
    },
    {
      "cell_type": "markdown",
      "metadata": {
        "id": "3AxMEIEaZDA6"
      },
      "source": [
        "#### 第二層卷積層 (含池化層)\n",
        "- Filter 個數: 16\n",
        "- Kernal 尺寸: (3, 3)\n",
        "- 激活函數: ReLU\n",
        "- 最大池化層之池化視窗: 2x2"
      ]
    },
    {
      "cell_type": "code",
      "metadata": {
        "id": "f5cq0uhpTRq0"
      },
      "source": [
        "model.add(Conv2D(16, (3, 3), activation='relu'))  # no padding\n",
        "model.add(MaxPool2D()) # pool_size=(2, 2)"
      ],
      "execution_count": 11,
      "outputs": []
    },
    {
      "cell_type": "markdown",
      "metadata": {
        "id": "t_N34MBEZC7t"
      },
      "source": [
        "#### 加入扁平層 (Flatten layer) 以接上全連接層"
      ]
    },
    {
      "cell_type": "code",
      "metadata": {
        "id": "BsUdQE0OTRoc"
      },
      "source": [
        "model.add(Flatten())"
      ],
      "execution_count": 12,
      "outputs": []
    },
    {
      "cell_type": "markdown",
      "metadata": {
        "id": "tFusTsXE5vyr"
      },
      "source": [
        "在接到全連接神經網路層前，我們稍微看一下模型目前的長相。"
      ]
    },
    {
      "cell_type": "code",
      "metadata": {
        "id": "floU0of05vJj",
        "colab": {
          "base_uri": "https://localhost:8080/",
          "height": 300
        },
        "outputId": "84cf5cac-4d75-4d0c-e554-aa29ae8a7b3f"
      },
      "source": [
        "model.summary()"
      ],
      "execution_count": 13,
      "outputs": [
        {
          "output_type": "display_data",
          "data": {
            "text/plain": [
              "\u001b[1mModel: \"sequential\"\u001b[0m\n"
            ],
            "text/html": [
              "<pre style=\"white-space:pre;overflow-x:auto;line-height:normal;font-family:Menlo,'DejaVu Sans Mono',consolas,'Courier New',monospace\"><span style=\"font-weight: bold\">Model: \"sequential\"</span>\n",
              "</pre>\n"
            ]
          },
          "metadata": {}
        },
        {
          "output_type": "display_data",
          "data": {
            "text/plain": [
              "┏━━━━━━━━━━━━━━━━━━━━━━━━━━━━━━━━━┳━━━━━━━━━━━━━━━━━━━━━━━━┳━━━━━━━━━━━━━━━┓\n",
              "┃\u001b[1m \u001b[0m\u001b[1mLayer (type)                   \u001b[0m\u001b[1m \u001b[0m┃\u001b[1m \u001b[0m\u001b[1mOutput Shape          \u001b[0m\u001b[1m \u001b[0m┃\u001b[1m \u001b[0m\u001b[1m      Param #\u001b[0m\u001b[1m \u001b[0m┃\n",
              "┡━━━━━━━━━━━━━━━━━━━━━━━━━━━━━━━━━╇━━━━━━━━━━━━━━━━━━━━━━━━╇━━━━━━━━━━━━━━━┩\n",
              "│ conv2d (\u001b[38;5;33mConv2D\u001b[0m)                 │ (\u001b[38;5;45mNone\u001b[0m, \u001b[38;5;34m26\u001b[0m, \u001b[38;5;34m26\u001b[0m, \u001b[38;5;34m6\u001b[0m)      │            \u001b[38;5;34m60\u001b[0m │\n",
              "├─────────────────────────────────┼────────────────────────┼───────────────┤\n",
              "│ max_pooling2d (\u001b[38;5;33mMaxPooling2D\u001b[0m)    │ (\u001b[38;5;45mNone\u001b[0m, \u001b[38;5;34m13\u001b[0m, \u001b[38;5;34m13\u001b[0m, \u001b[38;5;34m6\u001b[0m)      │             \u001b[38;5;34m0\u001b[0m │\n",
              "├─────────────────────────────────┼────────────────────────┼───────────────┤\n",
              "│ conv2d_1 (\u001b[38;5;33mConv2D\u001b[0m)               │ (\u001b[38;5;45mNone\u001b[0m, \u001b[38;5;34m11\u001b[0m, \u001b[38;5;34m11\u001b[0m, \u001b[38;5;34m16\u001b[0m)     │           \u001b[38;5;34m880\u001b[0m │\n",
              "├─────────────────────────────────┼────────────────────────┼───────────────┤\n",
              "│ max_pooling2d_1 (\u001b[38;5;33mMaxPooling2D\u001b[0m)  │ (\u001b[38;5;45mNone\u001b[0m, \u001b[38;5;34m5\u001b[0m, \u001b[38;5;34m5\u001b[0m, \u001b[38;5;34m16\u001b[0m)       │             \u001b[38;5;34m0\u001b[0m │\n",
              "├─────────────────────────────────┼────────────────────────┼───────────────┤\n",
              "│ flatten (\u001b[38;5;33mFlatten\u001b[0m)               │ (\u001b[38;5;45mNone\u001b[0m, \u001b[38;5;34m400\u001b[0m)            │             \u001b[38;5;34m0\u001b[0m │\n",
              "└─────────────────────────────────┴────────────────────────┴───────────────┘\n"
            ],
            "text/html": [
              "<pre style=\"white-space:pre;overflow-x:auto;line-height:normal;font-family:Menlo,'DejaVu Sans Mono',consolas,'Courier New',monospace\">┏━━━━━━━━━━━━━━━━━━━━━━━━━━━━━━━━━┳━━━━━━━━━━━━━━━━━━━━━━━━┳━━━━━━━━━━━━━━━┓\n",
              "┃<span style=\"font-weight: bold\"> Layer (type)                    </span>┃<span style=\"font-weight: bold\"> Output Shape           </span>┃<span style=\"font-weight: bold\">       Param # </span>┃\n",
              "┡━━━━━━━━━━━━━━━━━━━━━━━━━━━━━━━━━╇━━━━━━━━━━━━━━━━━━━━━━━━╇━━━━━━━━━━━━━━━┩\n",
              "│ conv2d (<span style=\"color: #0087ff; text-decoration-color: #0087ff\">Conv2D</span>)                 │ (<span style=\"color: #00d7ff; text-decoration-color: #00d7ff\">None</span>, <span style=\"color: #00af00; text-decoration-color: #00af00\">26</span>, <span style=\"color: #00af00; text-decoration-color: #00af00\">26</span>, <span style=\"color: #00af00; text-decoration-color: #00af00\">6</span>)      │            <span style=\"color: #00af00; text-decoration-color: #00af00\">60</span> │\n",
              "├─────────────────────────────────┼────────────────────────┼───────────────┤\n",
              "│ max_pooling2d (<span style=\"color: #0087ff; text-decoration-color: #0087ff\">MaxPooling2D</span>)    │ (<span style=\"color: #00d7ff; text-decoration-color: #00d7ff\">None</span>, <span style=\"color: #00af00; text-decoration-color: #00af00\">13</span>, <span style=\"color: #00af00; text-decoration-color: #00af00\">13</span>, <span style=\"color: #00af00; text-decoration-color: #00af00\">6</span>)      │             <span style=\"color: #00af00; text-decoration-color: #00af00\">0</span> │\n",
              "├─────────────────────────────────┼────────────────────────┼───────────────┤\n",
              "│ conv2d_1 (<span style=\"color: #0087ff; text-decoration-color: #0087ff\">Conv2D</span>)               │ (<span style=\"color: #00d7ff; text-decoration-color: #00d7ff\">None</span>, <span style=\"color: #00af00; text-decoration-color: #00af00\">11</span>, <span style=\"color: #00af00; text-decoration-color: #00af00\">11</span>, <span style=\"color: #00af00; text-decoration-color: #00af00\">16</span>)     │           <span style=\"color: #00af00; text-decoration-color: #00af00\">880</span> │\n",
              "├─────────────────────────────────┼────────────────────────┼───────────────┤\n",
              "│ max_pooling2d_1 (<span style=\"color: #0087ff; text-decoration-color: #0087ff\">MaxPooling2D</span>)  │ (<span style=\"color: #00d7ff; text-decoration-color: #00d7ff\">None</span>, <span style=\"color: #00af00; text-decoration-color: #00af00\">5</span>, <span style=\"color: #00af00; text-decoration-color: #00af00\">5</span>, <span style=\"color: #00af00; text-decoration-color: #00af00\">16</span>)       │             <span style=\"color: #00af00; text-decoration-color: #00af00\">0</span> │\n",
              "├─────────────────────────────────┼────────────────────────┼───────────────┤\n",
              "│ flatten (<span style=\"color: #0087ff; text-decoration-color: #0087ff\">Flatten</span>)               │ (<span style=\"color: #00d7ff; text-decoration-color: #00d7ff\">None</span>, <span style=\"color: #00af00; text-decoration-color: #00af00\">400</span>)            │             <span style=\"color: #00af00; text-decoration-color: #00af00\">0</span> │\n",
              "└─────────────────────────────────┴────────────────────────┴───────────────┘\n",
              "</pre>\n"
            ]
          },
          "metadata": {}
        },
        {
          "output_type": "display_data",
          "data": {
            "text/plain": [
              "\u001b[1m Total params: \u001b[0m\u001b[38;5;34m940\u001b[0m (3.67 KB)\n"
            ],
            "text/html": [
              "<pre style=\"white-space:pre;overflow-x:auto;line-height:normal;font-family:Menlo,'DejaVu Sans Mono',consolas,'Courier New',monospace\"><span style=\"font-weight: bold\"> Total params: </span><span style=\"color: #00af00; text-decoration-color: #00af00\">940</span> (3.67 KB)\n",
              "</pre>\n"
            ]
          },
          "metadata": {}
        },
        {
          "output_type": "display_data",
          "data": {
            "text/plain": [
              "\u001b[1m Trainable params: \u001b[0m\u001b[38;5;34m940\u001b[0m (3.67 KB)\n"
            ],
            "text/html": [
              "<pre style=\"white-space:pre;overflow-x:auto;line-height:normal;font-family:Menlo,'DejaVu Sans Mono',consolas,'Courier New',monospace\"><span style=\"font-weight: bold\"> Trainable params: </span><span style=\"color: #00af00; text-decoration-color: #00af00\">940</span> (3.67 KB)\n",
              "</pre>\n"
            ]
          },
          "metadata": {}
        },
        {
          "output_type": "display_data",
          "data": {
            "text/plain": [
              "\u001b[1m Non-trainable params: \u001b[0m\u001b[38;5;34m0\u001b[0m (0.00 B)\n"
            ],
            "text/html": [
              "<pre style=\"white-space:pre;overflow-x:auto;line-height:normal;font-family:Menlo,'DejaVu Sans Mono',consolas,'Courier New',monospace\"><span style=\"font-weight: bold\"> Non-trainable params: </span><span style=\"color: #00af00; text-decoration-color: #00af00\">0</span> (0.00 B)\n",
              "</pre>\n"
            ]
          },
          "metadata": {}
        }
      ]
    },
    {
      "cell_type": "markdown",
      "metadata": {
        "id": "6H57ojlacmfF"
      },
      "source": [
        "### [全連接層]"
      ]
    },
    {
      "cell_type": "markdown",
      "metadata": {
        "id": "z4pZDQS9ZF9I"
      },
      "source": [
        "#### 第一層全連接層\n",
        "- 神經元個數: 120\n",
        "- 激活函數: ReLU"
      ]
    },
    {
      "cell_type": "code",
      "metadata": {
        "id": "effbGcnzTRmD"
      },
      "source": [
        "model.add(Dense(units=120, activation='relu'))"
      ],
      "execution_count": 14,
      "outputs": []
    },
    {
      "cell_type": "markdown",
      "metadata": {
        "id": "tNcNc4LdZHL-"
      },
      "source": [
        "#### 第二層全連接層\n",
        "- 神經元個數: 84\n",
        "- 激活函數: ReLU\n",
        "\n",
        "\n",
        "\n",
        "\n",
        "\n",
        "\n",
        "\n",
        "\n"
      ]
    },
    {
      "cell_type": "code",
      "metadata": {
        "id": "GLfRYOZXTRhc"
      },
      "source": [
        "model.add(Dense(units=84, activation='relu'))"
      ],
      "execution_count": 15,
      "outputs": []
    },
    {
      "cell_type": "markdown",
      "metadata": {
        "id": "UCEziMgMZYx7"
      },
      "source": [
        "#### 輸出層\n",
        "- 神經元個數: 10\n",
        "- 激活函數: softmax\n"
      ]
    },
    {
      "cell_type": "code",
      "metadata": {
        "id": "j-hs49RnTReM"
      },
      "source": [
        "model.add(Dense(units=10, activation='softmax'))"
      ],
      "execution_count": 16,
      "outputs": []
    },
    {
      "cell_type": "markdown",
      "metadata": {
        "id": "GWdFSj9OcYWl"
      },
      "source": [
        "### 編譯模型: 設定模型訓練時的設定\n",
        "\n",
        "- Optimizer: Stochastic Gradient Descent (SGD)\n",
        "- Loss: categorical cross-entropy"
      ]
    },
    {
      "cell_type": "code",
      "metadata": {
        "id": "86fvl2DHcKwj"
      },
      "source": [
        "model.compile(loss='categorical_crossentropy',\n",
        "              optimizer='SGD',\n",
        "              metrics=['categorical_accuracy'])"
      ],
      "execution_count": 17,
      "outputs": []
    },
    {
      "cell_type": "code",
      "metadata": {
        "id": "CfRSwesrcKuD",
        "colab": {
          "base_uri": "https://localhost:8080/",
          "height": 400
        },
        "outputId": "25fa8701-edb0-4d2e-becb-0161f26d0b75"
      },
      "source": [
        "model.summary()"
      ],
      "execution_count": 18,
      "outputs": [
        {
          "output_type": "display_data",
          "data": {
            "text/plain": [
              "\u001b[1mModel: \"sequential\"\u001b[0m\n"
            ],
            "text/html": [
              "<pre style=\"white-space:pre;overflow-x:auto;line-height:normal;font-family:Menlo,'DejaVu Sans Mono',consolas,'Courier New',monospace\"><span style=\"font-weight: bold\">Model: \"sequential\"</span>\n",
              "</pre>\n"
            ]
          },
          "metadata": {}
        },
        {
          "output_type": "display_data",
          "data": {
            "text/plain": [
              "┏━━━━━━━━━━━━━━━━━━━━━━━━━━━━━━━━━┳━━━━━━━━━━━━━━━━━━━━━━━━┳━━━━━━━━━━━━━━━┓\n",
              "┃\u001b[1m \u001b[0m\u001b[1mLayer (type)                   \u001b[0m\u001b[1m \u001b[0m┃\u001b[1m \u001b[0m\u001b[1mOutput Shape          \u001b[0m\u001b[1m \u001b[0m┃\u001b[1m \u001b[0m\u001b[1m      Param #\u001b[0m\u001b[1m \u001b[0m┃\n",
              "┡━━━━━━━━━━━━━━━━━━━━━━━━━━━━━━━━━╇━━━━━━━━━━━━━━━━━━━━━━━━╇━━━━━━━━━━━━━━━┩\n",
              "│ conv2d (\u001b[38;5;33mConv2D\u001b[0m)                 │ (\u001b[38;5;45mNone\u001b[0m, \u001b[38;5;34m26\u001b[0m, \u001b[38;5;34m26\u001b[0m, \u001b[38;5;34m6\u001b[0m)      │            \u001b[38;5;34m60\u001b[0m │\n",
              "├─────────────────────────────────┼────────────────────────┼───────────────┤\n",
              "│ max_pooling2d (\u001b[38;5;33mMaxPooling2D\u001b[0m)    │ (\u001b[38;5;45mNone\u001b[0m, \u001b[38;5;34m13\u001b[0m, \u001b[38;5;34m13\u001b[0m, \u001b[38;5;34m6\u001b[0m)      │             \u001b[38;5;34m0\u001b[0m │\n",
              "├─────────────────────────────────┼────────────────────────┼───────────────┤\n",
              "│ conv2d_1 (\u001b[38;5;33mConv2D\u001b[0m)               │ (\u001b[38;5;45mNone\u001b[0m, \u001b[38;5;34m11\u001b[0m, \u001b[38;5;34m11\u001b[0m, \u001b[38;5;34m16\u001b[0m)     │           \u001b[38;5;34m880\u001b[0m │\n",
              "├─────────────────────────────────┼────────────────────────┼───────────────┤\n",
              "│ max_pooling2d_1 (\u001b[38;5;33mMaxPooling2D\u001b[0m)  │ (\u001b[38;5;45mNone\u001b[0m, \u001b[38;5;34m5\u001b[0m, \u001b[38;5;34m5\u001b[0m, \u001b[38;5;34m16\u001b[0m)       │             \u001b[38;5;34m0\u001b[0m │\n",
              "├─────────────────────────────────┼────────────────────────┼───────────────┤\n",
              "│ flatten (\u001b[38;5;33mFlatten\u001b[0m)               │ (\u001b[38;5;45mNone\u001b[0m, \u001b[38;5;34m400\u001b[0m)            │             \u001b[38;5;34m0\u001b[0m │\n",
              "├─────────────────────────────────┼────────────────────────┼───────────────┤\n",
              "│ dense (\u001b[38;5;33mDense\u001b[0m)                   │ (\u001b[38;5;45mNone\u001b[0m, \u001b[38;5;34m120\u001b[0m)            │        \u001b[38;5;34m48,120\u001b[0m │\n",
              "├─────────────────────────────────┼────────────────────────┼───────────────┤\n",
              "│ dense_1 (\u001b[38;5;33mDense\u001b[0m)                 │ (\u001b[38;5;45mNone\u001b[0m, \u001b[38;5;34m84\u001b[0m)             │        \u001b[38;5;34m10,164\u001b[0m │\n",
              "├─────────────────────────────────┼────────────────────────┼───────────────┤\n",
              "│ dense_2 (\u001b[38;5;33mDense\u001b[0m)                 │ (\u001b[38;5;45mNone\u001b[0m, \u001b[38;5;34m10\u001b[0m)             │           \u001b[38;5;34m850\u001b[0m │\n",
              "└─────────────────────────────────┴────────────────────────┴───────────────┘\n"
            ],
            "text/html": [
              "<pre style=\"white-space:pre;overflow-x:auto;line-height:normal;font-family:Menlo,'DejaVu Sans Mono',consolas,'Courier New',monospace\">┏━━━━━━━━━━━━━━━━━━━━━━━━━━━━━━━━━┳━━━━━━━━━━━━━━━━━━━━━━━━┳━━━━━━━━━━━━━━━┓\n",
              "┃<span style=\"font-weight: bold\"> Layer (type)                    </span>┃<span style=\"font-weight: bold\"> Output Shape           </span>┃<span style=\"font-weight: bold\">       Param # </span>┃\n",
              "┡━━━━━━━━━━━━━━━━━━━━━━━━━━━━━━━━━╇━━━━━━━━━━━━━━━━━━━━━━━━╇━━━━━━━━━━━━━━━┩\n",
              "│ conv2d (<span style=\"color: #0087ff; text-decoration-color: #0087ff\">Conv2D</span>)                 │ (<span style=\"color: #00d7ff; text-decoration-color: #00d7ff\">None</span>, <span style=\"color: #00af00; text-decoration-color: #00af00\">26</span>, <span style=\"color: #00af00; text-decoration-color: #00af00\">26</span>, <span style=\"color: #00af00; text-decoration-color: #00af00\">6</span>)      │            <span style=\"color: #00af00; text-decoration-color: #00af00\">60</span> │\n",
              "├─────────────────────────────────┼────────────────────────┼───────────────┤\n",
              "│ max_pooling2d (<span style=\"color: #0087ff; text-decoration-color: #0087ff\">MaxPooling2D</span>)    │ (<span style=\"color: #00d7ff; text-decoration-color: #00d7ff\">None</span>, <span style=\"color: #00af00; text-decoration-color: #00af00\">13</span>, <span style=\"color: #00af00; text-decoration-color: #00af00\">13</span>, <span style=\"color: #00af00; text-decoration-color: #00af00\">6</span>)      │             <span style=\"color: #00af00; text-decoration-color: #00af00\">0</span> │\n",
              "├─────────────────────────────────┼────────────────────────┼───────────────┤\n",
              "│ conv2d_1 (<span style=\"color: #0087ff; text-decoration-color: #0087ff\">Conv2D</span>)               │ (<span style=\"color: #00d7ff; text-decoration-color: #00d7ff\">None</span>, <span style=\"color: #00af00; text-decoration-color: #00af00\">11</span>, <span style=\"color: #00af00; text-decoration-color: #00af00\">11</span>, <span style=\"color: #00af00; text-decoration-color: #00af00\">16</span>)     │           <span style=\"color: #00af00; text-decoration-color: #00af00\">880</span> │\n",
              "├─────────────────────────────────┼────────────────────────┼───────────────┤\n",
              "│ max_pooling2d_1 (<span style=\"color: #0087ff; text-decoration-color: #0087ff\">MaxPooling2D</span>)  │ (<span style=\"color: #00d7ff; text-decoration-color: #00d7ff\">None</span>, <span style=\"color: #00af00; text-decoration-color: #00af00\">5</span>, <span style=\"color: #00af00; text-decoration-color: #00af00\">5</span>, <span style=\"color: #00af00; text-decoration-color: #00af00\">16</span>)       │             <span style=\"color: #00af00; text-decoration-color: #00af00\">0</span> │\n",
              "├─────────────────────────────────┼────────────────────────┼───────────────┤\n",
              "│ flatten (<span style=\"color: #0087ff; text-decoration-color: #0087ff\">Flatten</span>)               │ (<span style=\"color: #00d7ff; text-decoration-color: #00d7ff\">None</span>, <span style=\"color: #00af00; text-decoration-color: #00af00\">400</span>)            │             <span style=\"color: #00af00; text-decoration-color: #00af00\">0</span> │\n",
              "├─────────────────────────────────┼────────────────────────┼───────────────┤\n",
              "│ dense (<span style=\"color: #0087ff; text-decoration-color: #0087ff\">Dense</span>)                   │ (<span style=\"color: #00d7ff; text-decoration-color: #00d7ff\">None</span>, <span style=\"color: #00af00; text-decoration-color: #00af00\">120</span>)            │        <span style=\"color: #00af00; text-decoration-color: #00af00\">48,120</span> │\n",
              "├─────────────────────────────────┼────────────────────────┼───────────────┤\n",
              "│ dense_1 (<span style=\"color: #0087ff; text-decoration-color: #0087ff\">Dense</span>)                 │ (<span style=\"color: #00d7ff; text-decoration-color: #00d7ff\">None</span>, <span style=\"color: #00af00; text-decoration-color: #00af00\">84</span>)             │        <span style=\"color: #00af00; text-decoration-color: #00af00\">10,164</span> │\n",
              "├─────────────────────────────────┼────────────────────────┼───────────────┤\n",
              "│ dense_2 (<span style=\"color: #0087ff; text-decoration-color: #0087ff\">Dense</span>)                 │ (<span style=\"color: #00d7ff; text-decoration-color: #00d7ff\">None</span>, <span style=\"color: #00af00; text-decoration-color: #00af00\">10</span>)             │           <span style=\"color: #00af00; text-decoration-color: #00af00\">850</span> │\n",
              "└─────────────────────────────────┴────────────────────────┴───────────────┘\n",
              "</pre>\n"
            ]
          },
          "metadata": {}
        },
        {
          "output_type": "display_data",
          "data": {
            "text/plain": [
              "\u001b[1m Total params: \u001b[0m\u001b[38;5;34m60,074\u001b[0m (234.66 KB)\n"
            ],
            "text/html": [
              "<pre style=\"white-space:pre;overflow-x:auto;line-height:normal;font-family:Menlo,'DejaVu Sans Mono',consolas,'Courier New',monospace\"><span style=\"font-weight: bold\"> Total params: </span><span style=\"color: #00af00; text-decoration-color: #00af00\">60,074</span> (234.66 KB)\n",
              "</pre>\n"
            ]
          },
          "metadata": {}
        },
        {
          "output_type": "display_data",
          "data": {
            "text/plain": [
              "\u001b[1m Trainable params: \u001b[0m\u001b[38;5;34m60,074\u001b[0m (234.66 KB)\n"
            ],
            "text/html": [
              "<pre style=\"white-space:pre;overflow-x:auto;line-height:normal;font-family:Menlo,'DejaVu Sans Mono',consolas,'Courier New',monospace\"><span style=\"font-weight: bold\"> Trainable params: </span><span style=\"color: #00af00; text-decoration-color: #00af00\">60,074</span> (234.66 KB)\n",
              "</pre>\n"
            ]
          },
          "metadata": {}
        },
        {
          "output_type": "display_data",
          "data": {
            "text/plain": [
              "\u001b[1m Non-trainable params: \u001b[0m\u001b[38;5;34m0\u001b[0m (0.00 B)\n"
            ],
            "text/html": [
              "<pre style=\"white-space:pre;overflow-x:auto;line-height:normal;font-family:Menlo,'DejaVu Sans Mono',consolas,'Courier New',monospace\"><span style=\"font-weight: bold\"> Non-trainable params: </span><span style=\"color: #00af00; text-decoration-color: #00af00\">0</span> (0.00 B)\n",
              "</pre>\n"
            ]
          },
          "metadata": {}
        }
      ]
    },
    {
      "cell_type": "markdown",
      "metadata": {
        "id": "-Zz5yHOzdUgv"
      },
      "source": [
        "### 訓練模型: 透過訓練模型來學習分類資料的函數"
      ]
    },
    {
      "cell_type": "code",
      "metadata": {
        "id": "LVdaaVOJcKrk",
        "colab": {
          "base_uri": "https://localhost:8080/"
        },
        "outputId": "9e93753b-3b95-4679-c7fd-109bb02b13fc"
      },
      "source": [
        "training_history = model.fit(X_train, y_train,\n",
        "                             batch_size=32,\n",
        "                             epochs=5,\n",
        "                             validation_data=(X_test, y_test)\n",
        "                             )"
      ],
      "execution_count": 19,
      "outputs": [
        {
          "output_type": "stream",
          "name": "stdout",
          "text": [
            "Epoch 1/5\n",
            "\u001b[1m1875/1875\u001b[0m \u001b[32m━━━━━━━━━━━━━━━━━━━━\u001b[0m\u001b[37m\u001b[0m \u001b[1m9s\u001b[0m 3ms/step - categorical_accuracy: 0.7030 - loss: 0.9549 - val_categorical_accuracy: 0.9429 - val_loss: 0.1786\n",
            "Epoch 2/5\n",
            "\u001b[1m1875/1875\u001b[0m \u001b[32m━━━━━━━━━━━━━━━━━━━━\u001b[0m\u001b[37m\u001b[0m \u001b[1m7s\u001b[0m 3ms/step - categorical_accuracy: 0.9535 - loss: 0.1507 - val_categorical_accuracy: 0.9713 - val_loss: 0.0930\n",
            "Epoch 3/5\n",
            "\u001b[1m1875/1875\u001b[0m \u001b[32m━━━━━━━━━━━━━━━━━━━━\u001b[0m\u001b[37m\u001b[0m \u001b[1m5s\u001b[0m 3ms/step - categorical_accuracy: 0.9661 - loss: 0.1074 - val_categorical_accuracy: 0.9770 - val_loss: 0.0778\n",
            "Epoch 4/5\n",
            "\u001b[1m1875/1875\u001b[0m \u001b[32m━━━━━━━━━━━━━━━━━━━━\u001b[0m\u001b[37m\u001b[0m \u001b[1m6s\u001b[0m 3ms/step - categorical_accuracy: 0.9749 - loss: 0.0812 - val_categorical_accuracy: 0.9792 - val_loss: 0.0646\n",
            "Epoch 5/5\n",
            "\u001b[1m1875/1875\u001b[0m \u001b[32m━━━━━━━━━━━━━━━━━━━━\u001b[0m\u001b[37m\u001b[0m \u001b[1m5s\u001b[0m 3ms/step - categorical_accuracy: 0.9776 - loss: 0.0719 - val_categorical_accuracy: 0.9822 - val_loss: 0.0559\n"
          ]
        }
      ]
    },
    {
      "cell_type": "markdown",
      "metadata": {
        "id": "6NKm0z6Wd5SC"
      },
      "source": [
        "<font color=Red size=5>非常驚人的結果！</font>\n",
        "\n",
        "在同樣的訓練設定下，訓練權重較少的 CNN 模型在預測正確率上可以輕易超越 DNN 的結果，這也是為何 CNN 被視為在圖片分類上的一大利器！"
      ]
    },
    {
      "cell_type": "markdown",
      "metadata": {
        "id": "0G7lUOLHQEjr"
      },
      "source": [
        "### 訓練過程的評估"
      ]
    },
    {
      "cell_type": "code",
      "metadata": {
        "id": "14YYzYYwcKpE",
        "colab": {
          "base_uri": "https://localhost:8080/",
          "height": 468
        },
        "outputId": "5efb6964-fd88-4bef-8893-7570690314a4"
      },
      "source": [
        "plt.figure(figsize=(10, 5))\n",
        "plt.subplot(1, 2, 1)\n",
        "plt.plot(training_history.history['loss'])\n",
        "plt.plot(training_history.history['val_loss'])\n",
        "plt.legend(['Train', 'Validation'])\n",
        "plt.title(\"Loss\")\n",
        "\n",
        "plt.subplot(1, 2, 2)\n",
        "plt.plot(training_history.history['categorical_accuracy'])\n",
        "plt.plot(training_history.history['val_categorical_accuracy'])\n",
        "plt.legend(['Train', 'Validation'])\n",
        "plt.title(\"Accuracy\");"
      ],
      "execution_count": 20,
      "outputs": [
        {
          "output_type": "display_data",
          "data": {
            "text/plain": [
              "<Figure size 1000x500 with 2 Axes>"
            ],
            "image/png": "[encoded data removed]"
          },
          "metadata": {}
        }
      ]
    },
    {
      "cell_type": "code",
      "metadata": {
        "id": "Tb2cXnaV8FHy",
        "colab": {
          "base_uri": "https://localhost:8080/"
        },
        "outputId": "c5afe6e3-8a8f-4241-dd25-68102f09b8cd"
      },
      "source": [
        "# prediction result on testing data\n",
        "test_loss, test_accuracy = model.evaluate(X_test, y_test)\n",
        "print(\"測試資料 loss: %f\" %test_loss)\n",
        "print(\"測試資料準確率: %f\" %test_accuracy)"
      ],
      "execution_count": 21,
      "outputs": [
        {
          "output_type": "stream",
          "name": "stdout",
          "text": [
            "\u001b[1m313/313\u001b[0m \u001b[32m━━━━━━━━━━━━━━━━━━━━\u001b[0m\u001b[37m\u001b[0m \u001b[1m1s\u001b[0m 2ms/step - categorical_accuracy: 0.9779 - loss: 0.0693\n",
            "測試資料 loss: 0.055863\n",
            "測試資料準確率: 0.982200\n"
          ]
        }
      ]
    },
    {
      "cell_type": "markdown",
      "metadata": {
        "id": "W5Vf7bbrQIQc"
      },
      "source": [
        "## 5: 視覺化預測結果\n",
        "\n",
        "在這部分，我們提供簡單的視覺化方法來呈現神經網路的輸入與輸出結果"
      ]
    },
    {
      "cell_type": "code",
      "metadata": {
        "id": "gsxkNdrn8Foq"
      },
      "source": [
        "def visulization(idx=0):\n",
        "    # Random pick one data from training set\n",
        "    # idx = np.random.randint(X_train.shape[0])\n",
        "    sample_x = X_test[idx]\n",
        "    sample_y = y_test[idx]\n",
        "    # Predict the class of random data\n",
        "    predict_y = model.predict(X_test[idx:idx+1]).squeeze()\n",
        "    predict_label = predict_y.argmax()\n",
        "\n",
        "    fig, (ax1, ax2) = plt.subplots(1, 2, figsize=(10, 5))\n",
        "    # Plot raw image\n",
        "    ax1.imshow(sample_x[:, :, 0], 'gray_r')\n",
        "    ax1.set_title(\"Image Label: %d\" %sample_y.argmax())\n",
        "\n",
        "    # Plot prediction probability of each classes\n",
        "    ax2.barh(np.arange(10), predict_y)\n",
        "    ax2.patches[predict_label].set_facecolor('Red')\n",
        "    ax2.set_title(\"Prediction Result: %d\" %predict_label);\n",
        "    if sample_y.argmax()==predict_y.argmax():\n",
        "        print(\"預測正確!\")\n",
        "    else:\n",
        "        print(\"預測失敗QQ\")"
      ],
      "execution_count": 22,
      "outputs": []
    },
    {
      "cell_type": "code",
      "metadata": {
        "id": "iacX9kxd8Tcg",
        "colab": {
          "base_uri": "https://localhost:8080/",
          "height": 570,
          "referenced_widgets": [
            "2771e2ebc1284caa84ff17a8e6ef0400",
            "a1c19f9aa3424b6a8201f0509a257415",
            "0609ec11908f4b1f86f3c253828e6e85",
            "18081616d5384664892e6d1d852f1f51",
            "b1000b888bed42c2857ccc7b533c6833",
            "a19a34866c9140c9b4c47e456ebb6f34",
            "c8b9b31c547c4c25b510cccadde3321f"
          ]
        },
        "outputId": "877b4621-ec9c-423f-9c70-67914de0ced9"
      },
      "source": [
        "interact(visulization, idx=BoundedIntText(value=5566, min=0, max=X_test.shape[0]-1));"
      ],
      "execution_count": 23,
      "outputs": [
        {
          "output_type": "display_data",
          "data": {
            "text/plain": [
              "interactive(children=(BoundedIntText(value=5566, description='idx', max=9999), Output()), _dom_classes=('widge…"
            ],
            "application/vnd.jupyter.widget-view+json": {
              "version_major": 2,
              "version_minor": 0,
              "model_id": "2771e2ebc1284caa84ff17a8e6ef0400"
            }
          },
          "metadata": {}
        }
      ]
    },
    {
      "cell_type": "code",
      "metadata": {
        "id": "CaFv5h8x9Rqf"
      },
      "source": [],
      "execution_count": null,
      "outputs": []
    }
  ]
}